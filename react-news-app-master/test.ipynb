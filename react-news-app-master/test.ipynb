{
 "cells": [
  {
   "cell_type": "code",
   "execution_count": 1,
   "metadata": {},
   "outputs": [],
   "source": [
    "string_ = '{\"@context\": \"http://schema.org\",\"@type\": \"JobPosting\",\"baseSalary\" : {\"@type\": \"MonetaryAmount\",\"currency\": \"VND\",\"value\": {\"@type\": \"QuantitativeValue\",\\r\\n \"minValue\":\"10000000\",\"maxValue\":\"20000000\",\"unitText\":\"MONTH\"}},\"industry\": \"Bán hàng / Kinh doanh\",\"jobBenefits\": \"Laptop, Chế độ bảo hiểm, Du Lịch, Phụ cấp, Đồng phục, Chế độ thưởng, Chăm sóc sức khỏe, Đào tạo, Tăng lương, Nghỉ phép năm, CLB thể thao\",\"datePosted\": \"2024-04-16T10:33:29Z\",\"validThrough\": \"2024-04-16\",\"occupationalCategory\": \"Mới tốt nghiệp\",\"description\": \"<p>*Mô tả công việc:</p>\\r\\n\\r\\n<ul>\\r\\n\\t<li>\\r\\n\\t<p>Phát triển doanh thu đến từ những khách hàng hiện có của công ty theo dự án công ty</p>\\r\\n\\t</li>\\r\\n\\t<li>\\r\\n\\t<p>Tư vấn sản phẩm, dịch vụ công ty dựa trên nhu cầu khách hàng</p>\\r\\n\\t</li>\\r\\n\\t<li>\\r\\n\\t<p>Phân tích nhu cầu, đề xuất giải pháp nâng cao doanh thu cho công ty</p>\\r\\n\\t</li>\\r\\n\\t<li>\\r\\n\\t<p>Sử dụng linh hoạt các công cụ &amp; phối hợp với các phòng ban để giải quyết các vấn đề từ khách hàng một cách kịp thời &amp; chuyên nghiệp.</p>\\r\\n\\t</li>\\r\\n\\t<li>\\r\\n\\t<p>Thực hiện các công việc khác theo chỉ đạo của Quản lý trực tiếp.</p>\\r\\n\\t</li>\\r\\n</ul>\\r\\n\\r\\n<p>*Yêu cầu công việc:</p>\\r\\n\\r\\n<ul>\\r\\n\\t<li>\\r\\n\\t<p>Ưu tiên có kinh nghiệm Tư vấn, CSKH, Sales …</p>\\r\\n\\t</li>\\r\\n\\t<li>\\r\\n\\t<p>Có kinh nghiệm về phần mềm là một lợi thế.</p>\\r\\n\\t</li>\\r\\n\\t<li>\\r\\n\\t<p>Có khả năng giao tiếp, khả năng thuyết phục</p>\\r\\n\\t</li>\\r\\n\\t<li>\\r\\n\\t<p>Tính cách cá nhân mạnh mẽ, năng động, nhiệt huyết, có định hướng đạt mục tiêu, chủ động, tích cực</p>\\r\\n\\t</li>\\r\\n\\t<li>\\r\\n\\t<p>Khả năng làm việc dưới áp lực, thích nghi và phát triển trong môi trường di chuyển nhanh</p>\\r\\n\\t</li>\\r\\n</ul>\\r\\n\\r\\n<p>*Quyền lợi:</p>\\r\\n\\r\\n<ul>\\r\\n\\t<li>\\r\\n\\t<p>Thu nhập trung bình từ 8 -12 triệu theo năng lực (chính sách lương rõ ràng bao gồm: lương cứng, lương hoàn thành kpi, thưởng KPI)</p>\\r\\n\\t</li>\\r\\n\\t<li>\\r\\n\\t<p>Được hưởng lương tháng 13 theo kết quả công việc</p>\\r\\n\\t</li>\\r\\n\\t<li>\\r\\n\\t<p>Hưởng đầy đủ chế độ nghỉ lễ, nghỉ tết</p>\\r\\n\\t</li>\\r\\n\\t<li>\\r\\n\\t<p>Làm việc trong môi trường trẻ trung, năng động, thân thiện</p>\\r\\n\\t</li>\\r\\n\\t<li>\\r\\n\\t<p>Tham gia các buổi party và du lịch của công ty, đãi ngộ cho người thân du lịch hàng năm</p>\\r\\n\\t</li>\\r\\n\\t<li>\\r\\n\\t<p>Hưởng đầy đủ chế độ BHXH, BHYT, BHTN theo đúng quy định của nhà nước</p>\\r\\n\\t</li>\\r\\n\\t<li>\\r\\n\\t<p>Nhân viên có thâm niên từ 1 năm trở lên sẽ có thêm bảo hiểm Tai nạn và Sức khỏe 24/7</p>\\r\\n\\t</li>\\r\\n\\t<li>\\r\\n\\t<p>Thưởng thâm niên cho những nhân viên gắn bó</p>\\r\\n\\t</li>\\r\\n</ul>\\r\\n\",\"qualifications\": \"Không yêu cầu bằng cấp\",\"identifier\": {\"@type\":\"PropertyValue\",\"name\":\"Công ty cổ phần phần mềm 365\",\"value\":\"35A9B2AB\"},\"hiringOrganization\" : {\"@type\" : \"Organization\",\"name\" : \"Công ty cổ phần phần mềm 365\",\"sameAs\":\"https://careerviet.vn/vi/nha-tuyen-dung/cong-ty-co-phan-phan-mem-365.35A9B2AB.html\",\"logo\":\"https://static.careerviet.vn/themes/kiemviecv32/images/graphics/logo-default.png\"},\"employmentType\": [\"FULL_TIME\"],\"jobLocation\" : {\"@type\": \"Place\",\"address\": {\"@type\": \"PostalAddress\",\"streetAddress\": \"Hà Nội\",\"addressLocality\": \"Hà Nội\",\"addressRegion\": \"Hà Nội\",\"addressCountry\": \"Việt Nam\",\"postalCode\": \"70000\"}},\"title\" : \"Nhân Viên Kinh Doanh\",\"skills\" : \"Nhân viên Kinh doanh, Đại diện kinh doanh, Nhân viên phòng kinh doanh, Nhân viên bán hàng, Đại diện bán hàng, Telesales, Salesman, Sales Engineer, Sales Executive, Chuyên Viên Kinh Doanh, Sales Dept\",\"workHours\" : \"8AM-5PM\",\"applicantLocationRequirements\": {\"@type\": \"Country\",\"name\": \"Việt Nam\"}}'"
   ]
  },
  {
   "cell_type": "code",
   "execution_count": 5,
   "metadata": {},
   "outputs": [],
   "source": [
    "cleaned_string = string_.replace(\"\\n\", \"\").replace(\"\\t\", \"\").replace(\"\\r\", \"\")"
   ]
  },
  {
   "cell_type": "code",
   "execution_count": 6,
   "metadata": {},
   "outputs": [
    {
     "data": {
      "text/plain": [
       "'{\"@context\": \"http://schema.org\",\"@type\": \"JobPosting\",\"baseSalary\" : {\"@type\": \"MonetaryAmount\",\"currency\": \"VND\",\"value\": {\"@type\": \"QuantitativeValue\", \"minValue\":\"10000000\",\"maxValue\":\"20000000\",\"unitText\":\"MONTH\"}},\"industry\": \"Bán hàng / Kinh doanh\",\"jobBenefits\": \"Laptop, Chế độ bảo hiểm, Du Lịch, Phụ cấp, Đồng phục, Chế độ thưởng, Chăm sóc sức khỏe, Đào tạo, Tăng lương, Nghỉ phép năm, CLB thể thao\",\"datePosted\": \"2024-04-16T10:33:29Z\",\"validThrough\": \"2024-04-16\",\"occupationalCategory\": \"Mới tốt nghiệp\",\"description\": \"<p>*Mô tả công việc:</p><ul><li><p>Phát triển doanh thu đến từ những khách hàng hiện có của công ty theo dự án công ty</p></li><li><p>Tư vấn sản phẩm, dịch vụ công ty dựa trên nhu cầu khách hàng</p></li><li><p>Phân tích nhu cầu, đề xuất giải pháp nâng cao doanh thu cho công ty</p></li><li><p>Sử dụng linh hoạt các công cụ &amp; phối hợp với các phòng ban để giải quyết các vấn đề từ khách hàng một cách kịp thời &amp; chuyên nghiệp.</p></li><li><p>Thực hiện các công việc khác theo chỉ đạo của Quản lý trực tiếp.</p></li></ul><p>*Yêu cầu công việc:</p><ul><li><p>Ưu tiên có kinh nghiệm Tư vấn, CSKH, Sales …</p></li><li><p>Có kinh nghiệm về phần mềm là một lợi thế.</p></li><li><p>Có khả năng giao tiếp, khả năng thuyết phục</p></li><li><p>Tính cách cá nhân mạnh mẽ, năng động, nhiệt huyết, có định hướng đạt mục tiêu, chủ động, tích cực</p></li><li><p>Khả năng làm việc dưới áp lực, thích nghi và phát triển trong môi trường di chuyển nhanh</p></li></ul><p>*Quyền lợi:</p><ul><li><p>Thu nhập trung bình từ 8 -12 triệu theo năng lực (chính sách lương rõ ràng bao gồm: lương cứng, lương hoàn thành kpi, thưởng KPI)</p></li><li><p>Được hưởng lương tháng 13 theo kết quả công việc</p></li><li><p>Hưởng đầy đủ chế độ nghỉ lễ, nghỉ tết</p></li><li><p>Làm việc trong môi trường trẻ trung, năng động, thân thiện</p></li><li><p>Tham gia các buổi party và du lịch của công ty, đãi ngộ cho người thân du lịch hàng năm</p></li><li><p>Hưởng đầy đủ chế độ BHXH, BHYT, BHTN theo đúng quy định của nhà nước</p></li><li><p>Nhân viên có thâm niên từ 1 năm trở lên sẽ có thêm bảo hiểm Tai nạn và Sức khỏe 24/7</p></li><li><p>Thưởng thâm niên cho những nhân viên gắn bó</p></li></ul>\",\"qualifications\": \"Không yêu cầu bằng cấp\",\"identifier\": {\"@type\":\"PropertyValue\",\"name\":\"Công ty cổ phần phần mềm 365\",\"value\":\"35A9B2AB\"},\"hiringOrganization\" : {\"@type\" : \"Organization\",\"name\" : \"Công ty cổ phần phần mềm 365\",\"sameAs\":\"https://careerviet.vn/vi/nha-tuyen-dung/cong-ty-co-phan-phan-mem-365.35A9B2AB.html\",\"logo\":\"https://static.careerviet.vn/themes/kiemviecv32/images/graphics/logo-default.png\"},\"employmentType\": [\"FULL_TIME\"],\"jobLocation\" : {\"@type\": \"Place\",\"address\": {\"@type\": \"PostalAddress\",\"streetAddress\": \"Hà Nội\",\"addressLocality\": \"Hà Nội\",\"addressRegion\": \"Hà Nội\",\"addressCountry\": \"Việt Nam\",\"postalCode\": \"70000\"}},\"title\" : \"Nhân Viên Kinh Doanh\",\"skills\" : \"Nhân viên Kinh doanh, Đại diện kinh doanh, Nhân viên phòng kinh doanh, Nhân viên bán hàng, Đại diện bán hàng, Telesales, Salesman, Sales Engineer, Sales Executive, Chuyên Viên Kinh Doanh, Sales Dept\",\"workHours\" : \"8AM-5PM\",\"applicantLocationRequirements\": {\"@type\": \"Country\",\"name\": \"Việt Nam\"}}'"
      ]
     },
     "execution_count": 6,
     "metadata": {},
     "output_type": "execute_result"
    }
   ],
   "source": [
    "cleaned_string"
   ]
  }
 ],
 "metadata": {
  "kernelspec": {
   "display_name": "venv",
   "language": "python",
   "name": "python3"
  },
  "language_info": {
   "codemirror_mode": {
    "name": "ipython",
    "version": 3
   },
   "file_extension": ".py",
   "mimetype": "text/x-python",
   "name": "python",
   "nbconvert_exporter": "python",
   "pygments_lexer": "ipython3",
   "version": "3.11.5"
  }
 },
 "nbformat": 4,
 "nbformat_minor": 2
}
